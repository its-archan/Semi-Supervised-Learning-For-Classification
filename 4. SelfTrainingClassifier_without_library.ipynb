{
 "cells": [
  {
   "cell_type": "markdown",
   "id": "bad1481f",
   "metadata": {},
   "source": [
    "### Basic imports"
   ]
  },
  {
   "cell_type": "code",
   "execution_count": null,
   "id": "8788e498",
   "metadata": {},
   "outputs": [],
   "source": [
    "import os\n",
    "import pandas as pd\n",
    "import numpy as np\n",
    "import matplotlib.pyplot as plt\n",
    "import seaborn as sns\n",
    "from sklearn.utils import shuffle\n",
    "\n",
    "import pickle\n",
    "\n",
    "plt.style.use('fivethirtyeight')"
   ]
  },
  {
   "cell_type": "code",
   "execution_count": null,
   "id": "86efcce9",
   "metadata": {},
   "outputs": [],
   "source": [
    "# Visualization\n",
    "import plotly.express as px\n",
    "\n",
    "from sklearn.svm import SVC # for Support Vector Classification baseline model\n",
    "from sklearn.semi_supervised import SelfTrainingClassifier # for Semi-Supervised learning"
   ]
  },
  {
   "cell_type": "code",
   "execution_count": null,
   "id": "68e08143",
   "metadata": {},
   "outputs": [],
   "source": [
    "from sklearn.linear_model import LogisticRegression\n",
    "from sklearn.semi_supervised import LabelPropagation, LabelSpreading\n",
    "from sklearn.metrics import f1_score, accuracy_score, confusion_matrix,precision_score,\\\n",
    "recall_score,roc_auc_score,classification_report,fbeta_score,precision_recall_curve,roc_curve,log_loss"
   ]
  },
  {
   "cell_type": "code",
   "execution_count": null,
   "id": "1f8847ef",
   "metadata": {},
   "outputs": [],
   "source": [
    "import warnings\n",
    "warnings.simplefilter('ignore') #we don't wanna see that\n",
    "np.random.seed(1000) "
   ]
  },
  {
   "cell_type": "code",
   "execution_count": null,
   "id": "b742bae6",
   "metadata": {},
   "outputs": [],
   "source": [
    "#importing datasets:\n",
    "train = pd.read_csv('C:/Users/MBBLABS/Desktop/Python/1. Models/3. Project/Data/less_feature/train.csv',index_col='Unnamed: 0')\n",
    "test = pd.read_csv('C:/Users/MBBLABS/Desktop/Python/1. Models/3. Project/Data/less_feature/test.csv',index_col='Unnamed: 0')"
   ]
  },
  {
   "cell_type": "markdown",
   "id": "0ead81d5",
   "metadata": {},
   "source": [
    "### Preprocessing: \n",
    "#### 1. Changing data type <br> 2. splitting data <br> 3. assigning label"
   ]
  },
  {
   "cell_type": "code",
   "execution_count": null,
   "id": "f1e7650f",
   "metadata": {},
   "outputs": [],
   "source": [
    "#train data's 'y' is of float type - lets change it's type to integer\n",
    "train.info()"
   ]
  },
  {
   "cell_type": "code",
   "execution_count": null,
   "id": "ad8752e2",
   "metadata": {},
   "outputs": [],
   "source": [
    "#displaying the data\n",
    "display(train.head(2))\n",
    "test.head(2)"
   ]
  },
  {
   "cell_type": "markdown",
   "id": "7546aab3",
   "metadata": {},
   "source": [
    "#### Assigning '-1' as label to the unlablled dataset"
   ]
  },
  {
   "cell_type": "code",
   "execution_count": null,
   "id": "646ac41a",
   "metadata": {},
   "outputs": [],
   "source": [
    "# train[train['y'].isnull()]['y']\n",
    "train['y'] = train['y'].fillna(-1)\n",
    "train['y'].value_counts()"
   ]
  },
  {
   "cell_type": "code",
   "execution_count": null,
   "id": "fadaaf05",
   "metadata": {},
   "outputs": [],
   "source": [
    "1834/166"
   ]
  },
  {
   "cell_type": "code",
   "execution_count": null,
   "id": "4b380fbb",
   "metadata": {},
   "outputs": [],
   "source": [
    "#data type chaged to int32\n",
    "train['y'] = train['y'].astype('int32')\n",
    "train.info()"
   ]
  },
  {
   "cell_type": "markdown",
   "id": "fd5ce570",
   "metadata": {},
   "source": [
    "#### -- For training data"
   ]
  },
  {
   "cell_type": "code",
   "execution_count": null,
   "id": "49b4cc00",
   "metadata": {},
   "outputs": [],
   "source": [
    "#separating X,y:\n",
    "X = train.iloc[:,:-1] \n",
    "y = train.iloc[:,-1] #it's a mixure of all data\n",
    "\n",
    "#separating X,y with label\n",
    "X_lbl = train[train['y']!=-1].iloc[:,:-1]\n",
    "y_lbl = train[train['y']!=-1].iloc[:,-1]\n",
    "X_lbl.shape,y_lbl.shape"
   ]
  },
  {
   "cell_type": "markdown",
   "id": "6a4d3989",
   "metadata": {},
   "source": [
    "#### -- For test data"
   ]
  },
  {
   "cell_type": "code",
   "execution_count": null,
   "id": "31ab799f",
   "metadata": {},
   "outputs": [],
   "source": [
    "X_test = test.iloc[:,:-1] \n",
    "y_test = test.iloc[:,-1] \n",
    "X_test.shape,y_test.shape"
   ]
  },
  {
   "cell_type": "markdown",
   "id": "0e5f8ea2",
   "metadata": {},
   "source": [
    "## Logistic Regression"
   ]
  },
  {
   "cell_type": "code",
   "execution_count": null,
   "id": "6417f7c7",
   "metadata": {},
   "outputs": [],
   "source": [
    "#making dataframe to store results\n",
    "index = ['Algorithm', 'ROC AUC']\n",
    "results = pd.DataFrame(columns=index)"
   ]
  },
  {
   "cell_type": "code",
   "execution_count": null,
   "id": "a122b058",
   "metadata": {},
   "outputs": [],
   "source": [
    "#logistic regression:\n",
    "logreg = LogisticRegression(random_state=1, class_weight='None')\n",
    "logreg.fit(X_lbl, y_lbl)\n",
    "results = results.append(pd.Series(['Logistic Regression', roc_auc_score(y_test, logreg.predict_proba(X_test)[:,1])], \n",
    "                                   index=index), ignore_index=True)"
   ]
  },
  {
   "cell_type": "code",
   "execution_count": null,
   "id": "604f34c9",
   "metadata": {},
   "outputs": [],
   "source": [
    "#displaying result of logistic regression\n",
    "display(results)"
   ]
  },
  {
   "cell_type": "code",
   "execution_count": null,
   "id": "1c6fed33",
   "metadata": {},
   "outputs": [],
   "source": [
    "# Predicting on the test data\n",
    "pred_test = logreg.predict(X_test)\n",
    "\n",
    "#Calculating and printing the f1 score \n",
    "f1_test = f1_score(y_test, pred_test)\n",
    "print('The f1 score for the testing data:', f1_test)\n",
    "\n",
    "#Ploting the confusion matrix\n",
    "sns.heatmap(confusion_matrix(y_test, pred_test),annot=True,fmt='d',cmap = 'Blues')"
   ]
  },
  {
   "cell_type": "markdown",
   "id": "e697dde7",
   "metadata": {},
   "source": [
    "#### Classification Report:"
   ]
  },
  {
   "cell_type": "code",
   "execution_count": null,
   "id": "c660d764",
   "metadata": {},
   "outputs": [],
   "source": [
    "print(classification_report(y_test, pred_test))"
   ]
  },
  {
   "cell_type": "markdown",
   "id": "cbe3e182",
   "metadata": {},
   "source": [
    "#### Threshold tuning:"
   ]
  },
  {
   "cell_type": "code",
   "execution_count": null,
   "id": "cd08fa8e",
   "metadata": {},
   "outputs": [],
   "source": [
    "def to_labels(pos_probs, threshold):\n",
    "               return (pos_probs >= threshold)\n",
    " \n",
    "y_prob = logreg.predict_proba(X_test)[:,1]\n",
    " \n",
    "thresholds = np.arange(0, 1, 0.01)\n",
    "scores = [f1_score(y_test, to_labels(y_prob, t)) for t in thresholds]\n",
    "\n",
    "# get best threshold\n",
    "ix = np.argmax(scores)\n",
    "print('Threshold=%.3f, F1-Score=%.5f' % (thresholds[ix], scores[ix]))\n",
    "\n",
    "\n",
    "plt.plot(thresholds, scores)\n",
    "plt.title('F1-score vs Threshold ')\n",
    "plt.xlabel('threshold')\n",
    "plt.ylabel('F1-score')\n",
    "plt.show()"
   ]
  },
  {
   "cell_type": "code",
   "execution_count": null,
   "id": "f11891e1",
   "metadata": {
    "scrolled": true
   },
   "outputs": [],
   "source": [
    "y_pred_tuned = to_labels(y_prob, 0.430)\n",
    "print(classification_report(y_test, y_pred_tuned))"
   ]
  },
  {
   "cell_type": "markdown",
   "id": "64be1224",
   "metadata": {},
   "source": [
    "## Self-Training Classifier"
   ]
  },
  {
   "cell_type": "code",
   "execution_count": null,
   "id": "19ff943d",
   "metadata": {
    "scrolled": true
   },
   "outputs": [],
   "source": [
    "lgs =  LogisticRegression()\n",
    "lgs.fit(X_lbl,y_lbl)"
   ]
  },
  {
   "cell_type": "code",
   "execution_count": null,
   "id": "dee79495",
   "metadata": {},
   "outputs": [],
   "source": [
    "#separating unlabled data\n",
    "X_unl = X[2000:]"
   ]
  },
  {
   "cell_type": "code",
   "execution_count": null,
   "id": "5bfd98ad",
   "metadata": {},
   "outputs": [],
   "source": [
    "#predictions and probability\n",
    "probs = lgs.predict_proba(X_unl)\n",
    "label = lgs.predict(X_unl)"
   ]
  },
  {
   "cell_type": "code",
   "execution_count": null,
   "id": "8faeefd3",
   "metadata": {},
   "outputs": [],
   "source": [
    "df = pd.DataFrame(probs, columns = ['0-Prob', '1-Prob']) \n",
    "df['label']=label\n",
    "df['max']=df[[\"0-Prob\", \"1-Prob\"]].max(axis=1)"
   ]
  },
  {
   "cell_type": "code",
   "execution_count": null,
   "id": "5acc7049",
   "metadata": {},
   "outputs": [],
   "source": [
    "df['1-Prob'].describe()"
   ]
  },
  {
   "cell_type": "code",
   "execution_count": null,
   "id": "1c7a7ffe",
   "metadata": {},
   "outputs": [],
   "source": [
    "df['0-Prob'].describe()"
   ]
  },
  {
   "cell_type": "code",
   "execution_count": null,
   "id": "5c541a4a",
   "metadata": {},
   "outputs": [],
   "source": [
    "df['label'].value_counts()"
   ]
  },
  {
   "cell_type": "code",
   "execution_count": null,
   "id": "cf4ef7fd",
   "metadata": {
    "scrolled": true
   },
   "outputs": [],
   "source": [
    "df['max'].describe()"
   ]
  },
  {
   "cell_type": "code",
   "execution_count": null,
   "id": "128990b8",
   "metadata": {},
   "outputs": [],
   "source": [
    "df"
   ]
  },
  {
   "cell_type": "code",
   "execution_count": null,
   "id": "fe6d6b47",
   "metadata": {},
   "outputs": [],
   "source": [
    "nc=np.arange(.5,1,.0001)\n",
    "f1_max = 0 \n",
    "acc=[]\n",
    "i=0\n",
    "for k in np.nditer(nc):\n",
    "    conf_ind= df['max']>k\n",
    "    X_train1 = np.append(X_lbl,X_unl[conf_ind.values],axis=0)\n",
    "    y_train1 = np.append(y_lbl,df[conf_ind.values]['label'])\n",
    "    \n",
    "    lgs.fit(X_train1, y_train1)\n",
    "    f1 = f1_score(y_test,lgs.predict(X_test))\n",
    "    if f1 >= f1_max:\n",
    "        s = pickle.dumps(lgs)\n",
    "        f1_max = f1\n",
    "        k_best = k\n",
    "    acc.append(f1)\n",
    "    i = i + 1"
   ]
  },
  {
   "cell_type": "code",
   "execution_count": null,
   "id": "23334893",
   "metadata": {},
   "outputs": [],
   "source": [
    "k_best"
   ]
  },
  {
   "cell_type": "code",
   "execution_count": null,
   "id": "5dd06ea0",
   "metadata": {},
   "outputs": [],
   "source": [
    "max(acc)"
   ]
  },
  {
   "cell_type": "code",
   "execution_count": null,
   "id": "0291b78f",
   "metadata": {},
   "outputs": [],
   "source": [
    "cls = pickle.loads(s)"
   ]
  },
  {
   "cell_type": "code",
   "execution_count": null,
   "id": "641b07cb",
   "metadata": {},
   "outputs": [],
   "source": [
    "pred = cls.predict(X_test)\n",
    "f1_score(y_test,pred)"
   ]
  },
  {
   "cell_type": "code",
   "execution_count": null,
   "id": "c23a5213",
   "metadata": {},
   "outputs": [],
   "source": [
    "accuracy_score(y_test,pred),precision_score(y_test,pred),recall_score(y_test,pred),f1_score(y_test,pred)"
   ]
  },
  {
   "cell_type": "code",
   "execution_count": null,
   "id": "877ddf06",
   "metadata": {},
   "outputs": [],
   "source": [
    "sns.heatmap(confusion_matrix(y_test, pred),annot=True,fmt='d',cmap = 'Blues')\n",
    "plt.title('Confusion Matrix',size = 15)\n",
    "plt.xlabel('Predictions',size =15)\n",
    "plt.ylabel('True Values',size = 15)"
   ]
  },
  {
   "cell_type": "code",
   "execution_count": null,
   "id": "fc72ea35",
   "metadata": {},
   "outputs": [],
   "source": [
    "print(classification_report(y_test,pred))"
   ]
  },
  {
   "cell_type": "code",
   "execution_count": null,
   "id": "c53d28cd",
   "metadata": {},
   "outputs": [],
   "source": [
    "print(f'accuracy score: {accuracy_score(y_test,clf_ST.predict(X_test))},\\nprecision:{precision_score(y_test,clf_ST.predict(X_test))},\\nrecall: {recall_score(y_test,clf_ST.predict(X_test))}')"
   ]
  },
  {
   "cell_type": "code",
   "execution_count": null,
   "id": "aa8ba941",
   "metadata": {},
   "outputs": [],
   "source": [
    "sns.heatmap(confusion_matrix(y_test, clf_ST.predict(X_test)),annot=True,fmt='d',cmap = 'Blues')"
   ]
  },
  {
   "cell_type": "code",
   "execution_count": null,
   "id": "5ecb08be",
   "metadata": {},
   "outputs": [],
   "source": [
    "fig, ([a1,a2]) = plt.subplots(1,2,figsize=(10,4))\n",
    "\n",
    "sns.heatmap(confusion_matrix(y_test, pred_test),annot=True,fmt='d',cmap = 'Blues',ax = a1)\n",
    "a1.set_title('Surpervised_threshold_tuned')\n",
    "\n",
    "sns.heatmap(confusion_matrix(y_test, clf_ST.predict(X_test)),annot=True,fmt='d',cmap = 'Blues',ax = a2)\n",
    "a2.set_title('Self_training_classifier')"
   ]
  },
  {
   "cell_type": "markdown",
   "id": "15c2ad00",
   "metadata": {},
   "source": [
    "#### Was testing by only appending '1' class"
   ]
  },
  {
   "cell_type": "code",
   "execution_count": null,
   "id": "c7be2f6d",
   "metadata": {},
   "outputs": [],
   "source": [
    "nc=np.arange(.03,1,.001)\n",
    "f1_max = 0 \n",
    "acc=[]\n",
    "i=0\n",
    "for k in np.nditer(nc):\n",
    "    conf_ind= df[\"1-Prob\"]>k\n",
    "    df.iloc[conf_ind.values,2] = 1\n",
    "    X_train1 = np.append(X_lbl,X_unl[conf_ind.values],axis=0)\n",
    "    y_train1 = np.append(y_lbl,df[conf_ind.values]['label'])\n",
    "    \n",
    "    conf_ind= df[\"0-Prob\"]>k\n",
    "    X_train1 = np.append(X_train1,X_unl[conf_ind.values],axis=0)\n",
    "    y_train1 = np.append(y_train1,df[conf_ind.values]['label'])\n",
    "    \n",
    "    lgs.fit(X_train1, y_train1)\n",
    "    f1 = f1_score(y_test,lgs.predict(X_test))\n",
    "    if f1 >= f1_max:\n",
    "        s = pickle.dumps(lgs)\n",
    "        f1_max = f1\n",
    "        k_best = k\n",
    "    acc.append(f1)\n",
    "    i = i + 1"
   ]
  }
 ],
 "metadata": {
  "kernelspec": {
   "display_name": "Python 3 (ipykernel)",
   "language": "python",
   "name": "python3"
  },
  "language_info": {
   "codemirror_mode": {
    "name": "ipython",
    "version": 3
   },
   "file_extension": ".py",
   "mimetype": "text/x-python",
   "name": "python",
   "nbconvert_exporter": "python",
   "pygments_lexer": "ipython3",
   "version": "3.8.8"
  }
 },
 "nbformat": 4,
 "nbformat_minor": 5
}
